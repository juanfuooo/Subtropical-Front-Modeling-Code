{
 "cells": [
  {
   "cell_type": "code",
   "execution_count": 1,
   "metadata": {
    "execution": {
     "iopub.execute_input": "2025-01-25T12:32:17.016667Z",
     "iopub.status.busy": "2025-01-25T12:32:17.016126Z",
     "iopub.status.idle": "2025-01-25T12:33:36.816721Z",
     "shell.execute_reply": "2025-01-25T12:33:36.815146Z",
     "shell.execute_reply.started": "2025-01-25T12:32:17.016624Z"
    },
    "tags": []
   },
   "outputs": [],
   "source": [
    "import xarray as xr\n",
    "import pandas as pd\n",
    "import numpy as np\n",
    "import cartopy.crs as ccrs\n",
    "import matplotlib.colors as colors\n",
    "import matplotlib as mpl\n",
    "import pandas as pd\n",
    "import matplotlib\n",
    "import matplotlib.pyplot as plt\n",
    "import cartopy.feature as cfeature \n",
    "import cartopy.mpl.ticker as cticker \n",
    "import imageio\n",
    "import os\n",
    "import xgboost as xgb\n",
    "\n"
   ]
  },
  {
   "cell_type": "code",
   "execution_count": 2,
   "metadata": {
    "execution": {
     "iopub.execute_input": "2025-01-25T12:33:36.820242Z",
     "iopub.status.busy": "2025-01-25T12:33:36.818976Z",
     "iopub.status.idle": "2025-01-25T12:33:38.948730Z",
     "shell.execute_reply": "2025-01-25T12:33:38.947735Z",
     "shell.execute_reply.started": "2025-01-25T12:33:36.820195Z"
    }
   },
   "outputs": [],
   "source": [
    "import seaborn as sns\n"
   ]
  },
  {
   "cell_type": "code",
   "execution_count": 3,
   "metadata": {
    "execution": {
     "iopub.execute_input": "2025-01-25T12:33:38.950597Z",
     "iopub.status.busy": "2025-01-25T12:33:38.949872Z",
     "iopub.status.idle": "2025-01-25T12:33:38.956021Z",
     "shell.execute_reply": "2025-01-25T12:33:38.955070Z",
     "shell.execute_reply.started": "2025-01-25T12:33:38.950555Z"
    }
   },
   "outputs": [],
   "source": [
    "from sklearn.model_selection import KFold\n",
    "from sklearn.metrics import r2_score\n",
    "from sklearn.metrics import mean_squared_error\n",
    "from sklearn.model_selection import GridSearchCV\n",
    "from xgboost import plot_importance, plot_tree"
   ]
  },
  {
   "cell_type": "code",
   "execution_count": 4,
   "metadata": {
    "execution": {
     "iopub.execute_input": "2025-01-25T12:33:38.958478Z",
     "iopub.status.busy": "2025-01-25T12:33:38.957942Z",
     "iopub.status.idle": "2025-01-25T12:33:38.965733Z",
     "shell.execute_reply": "2025-01-25T12:33:38.964742Z",
     "shell.execute_reply.started": "2025-01-25T12:33:38.958439Z"
    }
   },
   "outputs": [],
   "source": [
    "import warnings\n",
    "warnings.filterwarnings(action='once')\n",
    "warnings.filterwarnings(\"ignore\",category=DeprecationWarning)\n",
    "warnings.simplefilter(action='ignore', category=FutureWarning)"
   ]
  },
  {
   "cell_type": "code",
   "execution_count": null,
   "metadata": {
    "execution": {
     "iopub.execute_input": "2025-01-25T12:33:38.967720Z",
     "iopub.status.busy": "2025-01-25T12:33:38.966946Z"
    },
    "tags": []
   },
   "outputs": [],
   "source": [
    "import torch\n",
    "print(f\"CUDA available: {torch.cuda.is_available()}\")\n",
    "print(f\"Number of CUDA devices: {torch.cuda.device_count()}\")\n",
    "\n",
    "if torch.cuda.is_available():\n",
    "    for i in range(torch.cuda.device_count()):\n",
    "        print(f\"Device {i}: {torch.cuda.get_device_name(i)}\")"
   ]
  },
  {
   "cell_type": "code",
   "execution_count": null,
   "metadata": {},
   "outputs": [],
   "source": []
  },
  {
   "cell_type": "code",
   "execution_count": 5,
   "metadata": {
    "execution": {
     "iopub.execute_input": "2025-01-24T04:23:55.736405Z",
     "iopub.status.busy": "2025-01-24T04:23:55.735824Z",
     "iopub.status.idle": "2025-01-24T04:24:05.576962Z",
     "shell.execute_reply": "2025-01-24T04:24:05.575717Z",
     "shell.execute_reply.started": "2025-01-24T04:23:55.736363Z"
    }
   },
   "outputs": [],
   "source": [
    "from dask.distributed import Client\n",
    "client = Client(processes=False)"
   ]
  },
  {
   "cell_type": "code",
   "execution_count": 6,
   "metadata": {
    "execution": {
     "iopub.execute_input": "2025-01-24T04:24:05.578705Z",
     "iopub.status.busy": "2025-01-24T04:24:05.578174Z",
     "iopub.status.idle": "2025-01-24T04:24:05.747886Z",
     "shell.execute_reply": "2025-01-24T04:24:05.746941Z",
     "shell.execute_reply.started": "2025-01-24T04:24:05.578664Z"
    }
   },
   "outputs": [
    {
     "data": {
      "text/html": [
       "<div>\n",
       "    <div style=\"width: 24px; height: 24px; background-color: #e1e1e1; border: 3px solid #9D9D9D; border-radius: 5px; position: absolute;\"> </div>\n",
       "    <div style=\"margin-left: 48px;\">\n",
       "        <h3 style=\"margin-bottom: 0px;\">Client</h3>\n",
       "        <p style=\"color: #9D9D9D; margin-bottom: 0px;\">Client-0baa318d-da0b-11ef-9409-00000329fe80</p>\n",
       "        <table style=\"width: 100%; text-align: left;\">\n",
       "\n",
       "        <tr>\n",
       "        \n",
       "            <td style=\"text-align: left;\"><strong>Connection method:</strong> Cluster object</td>\n",
       "            <td style=\"text-align: left;\"><strong>Cluster type:</strong> distributed.LocalCluster</td>\n",
       "        \n",
       "        </tr>\n",
       "\n",
       "        \n",
       "            <tr>\n",
       "                <td style=\"text-align: left;\">\n",
       "                    <strong>Dashboard: </strong> <a href=\"/proxy/8787/status\" target=\"_blank\">/proxy/8787/status</a>\n",
       "                </td>\n",
       "                <td style=\"text-align: left;\"></td>\n",
       "            </tr>\n",
       "        \n",
       "\n",
       "        </table>\n",
       "\n",
       "        \n",
       "\n",
       "        \n",
       "            <details>\n",
       "            <summary style=\"margin-bottom: 20px;\"><h3 style=\"display: inline;\">Cluster Info</h3></summary>\n",
       "            <div class=\"jp-RenderedHTMLCommon jp-RenderedHTML jp-mod-trusted jp-OutputArea-output\">\n",
       "    <div style=\"width: 24px; height: 24px; background-color: #e1e1e1; border: 3px solid #9D9D9D; border-radius: 5px; position: absolute;\">\n",
       "    </div>\n",
       "    <div style=\"margin-left: 48px;\">\n",
       "        <h3 style=\"margin-bottom: 0px; margin-top: 0px;\">LocalCluster</h3>\n",
       "        <p style=\"color: #9D9D9D; margin-bottom: 0px;\">642cff84</p>\n",
       "        <table style=\"width: 100%; text-align: left;\">\n",
       "            <tr>\n",
       "                <td style=\"text-align: left;\">\n",
       "                    <strong>Dashboard:</strong> <a href=\"/proxy/8787/status\" target=\"_blank\">/proxy/8787/status</a>\n",
       "                </td>\n",
       "                <td style=\"text-align: left;\">\n",
       "                    <strong>Workers:</strong> 1\n",
       "                </td>\n",
       "            </tr>\n",
       "            <tr>\n",
       "                <td style=\"text-align: left;\">\n",
       "                    <strong>Total threads:</strong> 12\n",
       "                </td>\n",
       "                <td style=\"text-align: left;\">\n",
       "                    <strong>Total memory:</strong> 95.00 GiB\n",
       "                </td>\n",
       "            </tr>\n",
       "            \n",
       "            <tr>\n",
       "    <td style=\"text-align: left;\"><strong>Status:</strong> running</td>\n",
       "    <td style=\"text-align: left;\"><strong>Using processes:</strong> False</td>\n",
       "</tr>\n",
       "\n",
       "            \n",
       "        </table>\n",
       "\n",
       "        <details>\n",
       "            <summary style=\"margin-bottom: 20px;\">\n",
       "                <h3 style=\"display: inline;\">Scheduler Info</h3>\n",
       "            </summary>\n",
       "\n",
       "            <div style=\"\">\n",
       "    <div>\n",
       "        <div style=\"width: 24px; height: 24px; background-color: #FFF7E5; border: 3px solid #FF6132; border-radius: 5px; position: absolute;\"> </div>\n",
       "        <div style=\"margin-left: 48px;\">\n",
       "            <h3 style=\"margin-bottom: 0px;\">Scheduler</h3>\n",
       "            <p style=\"color: #9D9D9D; margin-bottom: 0px;\">Scheduler-486d03ab-1b48-44bf-9326-40ed90f0c55b</p>\n",
       "            <table style=\"width: 100%; text-align: left;\">\n",
       "                <tr>\n",
       "                    <td style=\"text-align: left;\">\n",
       "                        <strong>Comm:</strong> inproc://10.6.28.14/1053705/1\n",
       "                    </td>\n",
       "                    <td style=\"text-align: left;\">\n",
       "                        <strong>Workers:</strong> 1\n",
       "                    </td>\n",
       "                </tr>\n",
       "                <tr>\n",
       "                    <td style=\"text-align: left;\">\n",
       "                        <strong>Dashboard:</strong> <a href=\"/proxy/8787/status\" target=\"_blank\">/proxy/8787/status</a>\n",
       "                    </td>\n",
       "                    <td style=\"text-align: left;\">\n",
       "                        <strong>Total threads:</strong> 12\n",
       "                    </td>\n",
       "                </tr>\n",
       "                <tr>\n",
       "                    <td style=\"text-align: left;\">\n",
       "                        <strong>Started:</strong> Just now\n",
       "                    </td>\n",
       "                    <td style=\"text-align: left;\">\n",
       "                        <strong>Total memory:</strong> 95.00 GiB\n",
       "                    </td>\n",
       "                </tr>\n",
       "            </table>\n",
       "        </div>\n",
       "    </div>\n",
       "\n",
       "    <details style=\"margin-left: 48px;\">\n",
       "        <summary style=\"margin-bottom: 20px;\">\n",
       "            <h3 style=\"display: inline;\">Workers</h3>\n",
       "        </summary>\n",
       "\n",
       "        \n",
       "        <div style=\"margin-bottom: 20px;\">\n",
       "            <div style=\"width: 24px; height: 24px; background-color: #DBF5FF; border: 3px solid #4CC9FF; border-radius: 5px; position: absolute;\"> </div>\n",
       "            <div style=\"margin-left: 48px;\">\n",
       "            <details>\n",
       "                <summary>\n",
       "                    <h4 style=\"margin-bottom: 0px; display: inline;\">Worker: 0</h4>\n",
       "                </summary>\n",
       "                <table style=\"width: 100%; text-align: left;\">\n",
       "                    <tr>\n",
       "                        <td style=\"text-align: left;\">\n",
       "                            <strong>Comm: </strong> inproc://10.6.28.14/1053705/4\n",
       "                        </td>\n",
       "                        <td style=\"text-align: left;\">\n",
       "                            <strong>Total threads: </strong> 12\n",
       "                        </td>\n",
       "                    </tr>\n",
       "                    <tr>\n",
       "                        <td style=\"text-align: left;\">\n",
       "                            <strong>Dashboard: </strong> <a href=\"/proxy/34737/status\" target=\"_blank\">/proxy/34737/status</a>\n",
       "                        </td>\n",
       "                        <td style=\"text-align: left;\">\n",
       "                            <strong>Memory: </strong> 95.00 GiB\n",
       "                        </td>\n",
       "                    </tr>\n",
       "                    <tr>\n",
       "                        <td style=\"text-align: left;\">\n",
       "                            <strong>Nanny: </strong> None\n",
       "                        </td>\n",
       "                        <td style=\"text-align: left;\"></td>\n",
       "                    </tr>\n",
       "                    <tr>\n",
       "                        <td colspan=\"2\" style=\"text-align: left;\">\n",
       "                            <strong>Local directory: </strong> /jobfs/132850389.gadi-pbs/dask-scratch-space/worker-hp9t7wkt\n",
       "                        </td>\n",
       "                    </tr>\n",
       "\n",
       "                    \n",
       "\n",
       "                    \n",
       "\n",
       "                </table>\n",
       "            </details>\n",
       "            </div>\n",
       "        </div>\n",
       "        \n",
       "\n",
       "    </details>\n",
       "</div>\n",
       "\n",
       "        </details>\n",
       "    </div>\n",
       "</div>\n",
       "            </details>\n",
       "        \n",
       "\n",
       "    </div>\n",
       "</div>"
      ],
      "text/plain": [
       "<Client: 'inproc://10.6.28.14/1053705/1' processes=1 threads=12, memory=95.00 GiB>"
      ]
     },
     "execution_count": 6,
     "metadata": {},
     "output_type": "execute_result"
    }
   ],
   "source": [
    "client"
   ]
  },
  {
   "cell_type": "code",
   "execution_count": 7,
   "metadata": {
    "execution": {
     "iopub.execute_input": "2025-01-24T04:24:05.749633Z",
     "iopub.status.busy": "2025-01-24T04:24:05.749113Z",
     "iopub.status.idle": "2025-01-24T04:24:05.754272Z",
     "shell.execute_reply": "2025-01-24T04:24:05.753412Z",
     "shell.execute_reply.started": "2025-01-24T04:24:05.749596Z"
    }
   },
   "outputs": [],
   "source": [
    "matplotlib.rcParams['font.family'] = 'Times New Roman'\n"
   ]
  },
  {
   "cell_type": "code",
   "execution_count": 8,
   "metadata": {
    "execution": {
     "iopub.execute_input": "2025-01-24T04:24:05.755779Z",
     "iopub.status.busy": "2025-01-24T04:24:05.755288Z",
     "iopub.status.idle": "2025-01-24T04:24:05.764427Z",
     "shell.execute_reply": "2025-01-24T04:24:05.763507Z",
     "shell.execute_reply.started": "2025-01-24T04:24:05.755744Z"
    }
   },
   "outputs": [
    {
     "name": "stdout",
     "output_type": "stream",
     "text": [
      "2.1.3\n"
     ]
    }
   ],
   "source": [
    "print(xgb.__version__)"
   ]
  },
  {
   "cell_type": "markdown",
   "metadata": {},
   "source": [
    "# Read the data (OISST & Argo)\n",
    "- uniform the time dim"
   ]
  },
  {
   "cell_type": "code",
   "execution_count": null,
   "metadata": {},
   "outputs": [],
   "source": []
  },
  {
   "cell_type": "code",
   "execution_count": 9,
   "metadata": {
    "execution": {
     "iopub.execute_input": "2025-01-24T04:24:05.766515Z",
     "iopub.status.busy": "2025-01-24T04:24:05.765538Z",
     "iopub.status.idle": "2025-01-24T04:24:10.877357Z",
     "shell.execute_reply": "2025-01-24T04:24:10.876401Z",
     "shell.execute_reply.started": "2025-01-24T04:24:05.766474Z"
    }
   },
   "outputs": [
    {
     "name": "stderr",
     "output_type": "stream",
     "text": [
      "<frozen importlib._bootstrap>:488: RuntimeWarning: numpy.ndarray size changed, may indicate binary incompatibility. Expected 16 from C header, got 96 from PyObject\n"
     ]
    },
    {
     "data": {
      "text/html": [
       "<div><svg style=\"position: absolute; width: 0; height: 0; overflow: hidden\">\n",
       "<defs>\n",
       "<symbol id=\"icon-database\" viewBox=\"0 0 32 32\">\n",
       "<path d=\"M16 0c-8.837 0-16 2.239-16 5v4c0 2.761 7.163 5 16 5s16-2.239 16-5v-4c0-2.761-7.163-5-16-5z\"></path>\n",
       "<path d=\"M16 17c-8.837 0-16-2.239-16-5v6c0 2.761 7.163 5 16 5s16-2.239 16-5v-6c0 2.761-7.163 5-16 5z\"></path>\n",
       "<path d=\"M16 26c-8.837 0-16-2.239-16-5v6c0 2.761 7.163 5 16 5s16-2.239 16-5v-6c0 2.761-7.163 5-16 5z\"></path>\n",
       "</symbol>\n",
       "<symbol id=\"icon-file-text2\" viewBox=\"0 0 32 32\">\n",
       "<path d=\"M28.681 7.159c-0.694-0.947-1.662-2.053-2.724-3.116s-2.169-2.030-3.116-2.724c-1.612-1.182-2.393-1.319-2.841-1.319h-15.5c-1.378 0-2.5 1.121-2.5 2.5v27c0 1.378 1.122 2.5 2.5 2.5h23c1.378 0 2.5-1.122 2.5-2.5v-19.5c0-0.448-0.137-1.23-1.319-2.841zM24.543 5.457c0.959 0.959 1.712 1.825 2.268 2.543h-4.811v-4.811c0.718 0.556 1.584 1.309 2.543 2.268zM28 29.5c0 0.271-0.229 0.5-0.5 0.5h-23c-0.271 0-0.5-0.229-0.5-0.5v-27c0-0.271 0.229-0.5 0.5-0.5 0 0 15.499-0 15.5 0v7c0 0.552 0.448 1 1 1h7v19.5z\"></path>\n",
       "<path d=\"M23 26h-14c-0.552 0-1-0.448-1-1s0.448-1 1-1h14c0.552 0 1 0.448 1 1s-0.448 1-1 1z\"></path>\n",
       "<path d=\"M23 22h-14c-0.552 0-1-0.448-1-1s0.448-1 1-1h14c0.552 0 1 0.448 1 1s-0.448 1-1 1z\"></path>\n",
       "<path d=\"M23 18h-14c-0.552 0-1-0.448-1-1s0.448-1 1-1h14c0.552 0 1 0.448 1 1s-0.448 1-1 1z\"></path>\n",
       "</symbol>\n",
       "</defs>\n",
       "</svg>\n",
       "<style>/* CSS stylesheet for displaying xarray objects in jupyterlab.\n",
       " *\n",
       " */\n",
       "\n",
       ":root {\n",
       "  --xr-font-color0: var(--jp-content-font-color0, rgba(0, 0, 0, 1));\n",
       "  --xr-font-color2: var(--jp-content-font-color2, rgba(0, 0, 0, 0.54));\n",
       "  --xr-font-color3: var(--jp-content-font-color3, rgba(0, 0, 0, 0.38));\n",
       "  --xr-border-color: var(--jp-border-color2, #e0e0e0);\n",
       "  --xr-disabled-color: var(--jp-layout-color3, #bdbdbd);\n",
       "  --xr-background-color: var(--jp-layout-color0, white);\n",
       "  --xr-background-color-row-even: var(--jp-layout-color1, white);\n",
       "  --xr-background-color-row-odd: var(--jp-layout-color2, #eeeeee);\n",
       "}\n",
       "\n",
       "html[theme=\"dark\"],\n",
       "html[data-theme=\"dark\"],\n",
       "body[data-theme=\"dark\"],\n",
       "body.vscode-dark {\n",
       "  --xr-font-color0: rgba(255, 255, 255, 1);\n",
       "  --xr-font-color2: rgba(255, 255, 255, 0.54);\n",
       "  --xr-font-color3: rgba(255, 255, 255, 0.38);\n",
       "  --xr-border-color: #1f1f1f;\n",
       "  --xr-disabled-color: #515151;\n",
       "  --xr-background-color: #111111;\n",
       "  --xr-background-color-row-even: #111111;\n",
       "  --xr-background-color-row-odd: #313131;\n",
       "}\n",
       "\n",
       ".xr-wrap {\n",
       "  display: block !important;\n",
       "  min-width: 300px;\n",
       "  max-width: 700px;\n",
       "}\n",
       "\n",
       ".xr-text-repr-fallback {\n",
       "  /* fallback to plain text repr when CSS is not injected (untrusted notebook) */\n",
       "  display: none;\n",
       "}\n",
       "\n",
       ".xr-header {\n",
       "  padding-top: 6px;\n",
       "  padding-bottom: 6px;\n",
       "  margin-bottom: 4px;\n",
       "  border-bottom: solid 1px var(--xr-border-color);\n",
       "}\n",
       "\n",
       ".xr-header > div,\n",
       ".xr-header > ul {\n",
       "  display: inline;\n",
       "  margin-top: 0;\n",
       "  margin-bottom: 0;\n",
       "}\n",
       "\n",
       ".xr-obj-type,\n",
       ".xr-array-name {\n",
       "  margin-left: 2px;\n",
       "  margin-right: 10px;\n",
       "}\n",
       "\n",
       ".xr-obj-type {\n",
       "  color: var(--xr-font-color2);\n",
       "}\n",
       "\n",
       ".xr-sections {\n",
       "  padding-left: 0 !important;\n",
       "  display: grid;\n",
       "  grid-template-columns: 150px auto auto 1fr 0 20px 0 20px;\n",
       "}\n",
       "\n",
       ".xr-section-item {\n",
       "  display: contents;\n",
       "}\n",
       "\n",
       ".xr-section-item input {\n",
       "  display: inline-block;\n",
       "  opacity: 0;\n",
       "  height: 0;\n",
       "}\n",
       "\n",
       ".xr-section-item input + label {\n",
       "  color: var(--xr-disabled-color);\n",
       "}\n",
       "\n",
       ".xr-section-item input:enabled + label {\n",
       "  cursor: pointer;\n",
       "  color: var(--xr-font-color2);\n",
       "}\n",
       "\n",
       ".xr-section-item input:focus + label {\n",
       "  border: 2px solid var(--xr-font-color0);\n",
       "}\n",
       "\n",
       ".xr-section-item input:enabled + label:hover {\n",
       "  color: var(--xr-font-color0);\n",
       "}\n",
       "\n",
       ".xr-section-summary {\n",
       "  grid-column: 1;\n",
       "  color: var(--xr-font-color2);\n",
       "  font-weight: 500;\n",
       "}\n",
       "\n",
       ".xr-section-summary > span {\n",
       "  display: inline-block;\n",
       "  padding-left: 0.5em;\n",
       "}\n",
       "\n",
       ".xr-section-summary-in:disabled + label {\n",
       "  color: var(--xr-font-color2);\n",
       "}\n",
       "\n",
       ".xr-section-summary-in + label:before {\n",
       "  display: inline-block;\n",
       "  content: \"►\";\n",
       "  font-size: 11px;\n",
       "  width: 15px;\n",
       "  text-align: center;\n",
       "}\n",
       "\n",
       ".xr-section-summary-in:disabled + label:before {\n",
       "  color: var(--xr-disabled-color);\n",
       "}\n",
       "\n",
       ".xr-section-summary-in:checked + label:before {\n",
       "  content: \"▼\";\n",
       "}\n",
       "\n",
       ".xr-section-summary-in:checked + label > span {\n",
       "  display: none;\n",
       "}\n",
       "\n",
       ".xr-section-summary,\n",
       ".xr-section-inline-details {\n",
       "  padding-top: 4px;\n",
       "  padding-bottom: 4px;\n",
       "}\n",
       "\n",
       ".xr-section-inline-details {\n",
       "  grid-column: 2 / -1;\n",
       "}\n",
       "\n",
       ".xr-section-details {\n",
       "  display: none;\n",
       "  grid-column: 1 / -1;\n",
       "  margin-bottom: 5px;\n",
       "}\n",
       "\n",
       ".xr-section-summary-in:checked ~ .xr-section-details {\n",
       "  display: contents;\n",
       "}\n",
       "\n",
       ".xr-array-wrap {\n",
       "  grid-column: 1 / -1;\n",
       "  display: grid;\n",
       "  grid-template-columns: 20px auto;\n",
       "}\n",
       "\n",
       ".xr-array-wrap > label {\n",
       "  grid-column: 1;\n",
       "  vertical-align: top;\n",
       "}\n",
       "\n",
       ".xr-preview {\n",
       "  color: var(--xr-font-color3);\n",
       "}\n",
       "\n",
       ".xr-array-preview,\n",
       ".xr-array-data {\n",
       "  padding: 0 5px !important;\n",
       "  grid-column: 2;\n",
       "}\n",
       "\n",
       ".xr-array-data,\n",
       ".xr-array-in:checked ~ .xr-array-preview {\n",
       "  display: none;\n",
       "}\n",
       "\n",
       ".xr-array-in:checked ~ .xr-array-data,\n",
       ".xr-array-preview {\n",
       "  display: inline-block;\n",
       "}\n",
       "\n",
       ".xr-dim-list {\n",
       "  display: inline-block !important;\n",
       "  list-style: none;\n",
       "  padding: 0 !important;\n",
       "  margin: 0;\n",
       "}\n",
       "\n",
       ".xr-dim-list li {\n",
       "  display: inline-block;\n",
       "  padding: 0;\n",
       "  margin: 0;\n",
       "}\n",
       "\n",
       ".xr-dim-list:before {\n",
       "  content: \"(\";\n",
       "}\n",
       "\n",
       ".xr-dim-list:after {\n",
       "  content: \")\";\n",
       "}\n",
       "\n",
       ".xr-dim-list li:not(:last-child):after {\n",
       "  content: \",\";\n",
       "  padding-right: 5px;\n",
       "}\n",
       "\n",
       ".xr-has-index {\n",
       "  font-weight: bold;\n",
       "}\n",
       "\n",
       ".xr-var-list,\n",
       ".xr-var-item {\n",
       "  display: contents;\n",
       "}\n",
       "\n",
       ".xr-var-item > div,\n",
       ".xr-var-item label,\n",
       ".xr-var-item > .xr-var-name span {\n",
       "  background-color: var(--xr-background-color-row-even);\n",
       "  margin-bottom: 0;\n",
       "}\n",
       "\n",
       ".xr-var-item > .xr-var-name:hover span {\n",
       "  padding-right: 5px;\n",
       "}\n",
       "\n",
       ".xr-var-list > li:nth-child(odd) > div,\n",
       ".xr-var-list > li:nth-child(odd) > label,\n",
       ".xr-var-list > li:nth-child(odd) > .xr-var-name span {\n",
       "  background-color: var(--xr-background-color-row-odd);\n",
       "}\n",
       "\n",
       ".xr-var-name {\n",
       "  grid-column: 1;\n",
       "}\n",
       "\n",
       ".xr-var-dims {\n",
       "  grid-column: 2;\n",
       "}\n",
       "\n",
       ".xr-var-dtype {\n",
       "  grid-column: 3;\n",
       "  text-align: right;\n",
       "  color: var(--xr-font-color2);\n",
       "}\n",
       "\n",
       ".xr-var-preview {\n",
       "  grid-column: 4;\n",
       "}\n",
       "\n",
       ".xr-index-preview {\n",
       "  grid-column: 2 / 5;\n",
       "  color: var(--xr-font-color2);\n",
       "}\n",
       "\n",
       ".xr-var-name,\n",
       ".xr-var-dims,\n",
       ".xr-var-dtype,\n",
       ".xr-preview,\n",
       ".xr-attrs dt {\n",
       "  white-space: nowrap;\n",
       "  overflow: hidden;\n",
       "  text-overflow: ellipsis;\n",
       "  padding-right: 10px;\n",
       "}\n",
       "\n",
       ".xr-var-name:hover,\n",
       ".xr-var-dims:hover,\n",
       ".xr-var-dtype:hover,\n",
       ".xr-attrs dt:hover {\n",
       "  overflow: visible;\n",
       "  width: auto;\n",
       "  z-index: 1;\n",
       "}\n",
       "\n",
       ".xr-var-attrs,\n",
       ".xr-var-data,\n",
       ".xr-index-data {\n",
       "  display: none;\n",
       "  background-color: var(--xr-background-color) !important;\n",
       "  padding-bottom: 5px !important;\n",
       "}\n",
       "\n",
       ".xr-var-attrs-in:checked ~ .xr-var-attrs,\n",
       ".xr-var-data-in:checked ~ .xr-var-data,\n",
       ".xr-index-data-in:checked ~ .xr-index-data {\n",
       "  display: block;\n",
       "}\n",
       "\n",
       ".xr-var-data > table {\n",
       "  float: right;\n",
       "}\n",
       "\n",
       ".xr-var-name span,\n",
       ".xr-var-data,\n",
       ".xr-index-name div,\n",
       ".xr-index-data,\n",
       ".xr-attrs {\n",
       "  padding-left: 25px !important;\n",
       "}\n",
       "\n",
       ".xr-attrs,\n",
       ".xr-var-attrs,\n",
       ".xr-var-data,\n",
       ".xr-index-data {\n",
       "  grid-column: 1 / -1;\n",
       "}\n",
       "\n",
       "dl.xr-attrs {\n",
       "  padding: 0;\n",
       "  margin: 0;\n",
       "  display: grid;\n",
       "  grid-template-columns: 125px auto;\n",
       "}\n",
       "\n",
       ".xr-attrs dt,\n",
       ".xr-attrs dd {\n",
       "  padding: 0;\n",
       "  margin: 0;\n",
       "  float: left;\n",
       "  padding-right: 10px;\n",
       "  width: auto;\n",
       "}\n",
       "\n",
       ".xr-attrs dt {\n",
       "  font-weight: normal;\n",
       "  grid-column: 1;\n",
       "}\n",
       "\n",
       ".xr-attrs dt:hover span {\n",
       "  display: inline-block;\n",
       "  background: var(--xr-background-color);\n",
       "  padding-right: 10px;\n",
       "}\n",
       "\n",
       ".xr-attrs dd {\n",
       "  grid-column: 2;\n",
       "  white-space: pre-wrap;\n",
       "  word-break: break-all;\n",
       "}\n",
       "\n",
       ".xr-icon-database,\n",
       ".xr-icon-file-text2,\n",
       ".xr-no-icon {\n",
       "  display: inline-block;\n",
       "  vertical-align: middle;\n",
       "  width: 1em;\n",
       "  height: 1.5em !important;\n",
       "  stroke-width: 0;\n",
       "  stroke: currentColor;\n",
       "  fill: currentColor;\n",
       "}\n",
       "</style><pre class='xr-text-repr-fallback'>&lt;xarray.Dataset&gt; Size: 453MB\n",
       "Dimensions:  (time: 240, lat: 82, lon: 1440)\n",
       "Coordinates:\n",
       "  * time     (time) datetime64[ns] 2kB 2004-01-15 2004-02-15 ... 2023-12-15\n",
       "  * lat      (lat) float64 656B -50.12 -49.88 -49.62 ... -30.38 -30.12 -29.88\n",
       "  * lon      (lon) float64 12kB 0.125 0.375 0.625 0.875 ... 359.4 359.6 359.9\n",
       "Data variables:\n",
       "    sst      (time, lat, lon) float64 227MB ...\n",
       "    st100    (time, lat, lon) float64 227MB ...</pre><div class='xr-wrap' style='display:none'><div class='xr-header'><div class='xr-obj-type'>xarray.Dataset</div></div><ul class='xr-sections'><li class='xr-section-item'><input id='section-4bbe5b01-7a88-4b40-a365-69cce117992e' class='xr-section-summary-in' type='checkbox' disabled ><label for='section-4bbe5b01-7a88-4b40-a365-69cce117992e' class='xr-section-summary'  title='Expand/collapse section'>Dimensions:</label><div class='xr-section-inline-details'><ul class='xr-dim-list'><li><span class='xr-has-index'>time</span>: 240</li><li><span class='xr-has-index'>lat</span>: 82</li><li><span class='xr-has-index'>lon</span>: 1440</li></ul></div><div class='xr-section-details'></div></li><li class='xr-section-item'><input id='section-52bd140b-4717-4a97-b0af-3d5a392097dd' class='xr-section-summary-in' type='checkbox'  checked><label for='section-52bd140b-4717-4a97-b0af-3d5a392097dd' class='xr-section-summary' >Coordinates: <span>(3)</span></label><div class='xr-section-inline-details'></div><div class='xr-section-details'><ul class='xr-var-list'><li class='xr-var-item'><div class='xr-var-name'><span class='xr-has-index'>time</span></div><div class='xr-var-dims'>(time)</div><div class='xr-var-dtype'>datetime64[ns]</div><div class='xr-var-preview xr-preview'>2004-01-15 ... 2023-12-15</div><input id='attrs-84d79e9e-5898-4075-8f81-2a1d6a67d770' class='xr-var-attrs-in' type='checkbox' disabled><label for='attrs-84d79e9e-5898-4075-8f81-2a1d6a67d770' title='Show/Hide attributes'><svg class='icon xr-icon-file-text2'><use xlink:href='#icon-file-text2'></use></svg></label><input id='data-92be1aa4-bd52-4fb2-99bb-7db86347ba7f' class='xr-var-data-in' type='checkbox'><label for='data-92be1aa4-bd52-4fb2-99bb-7db86347ba7f' title='Show/Hide data repr'><svg class='icon xr-icon-database'><use xlink:href='#icon-database'></use></svg></label><div class='xr-var-attrs'><dl class='xr-attrs'></dl></div><div class='xr-var-data'><pre>array([&#x27;2004-01-15T00:00:00.000000000&#x27;, &#x27;2004-02-15T00:00:00.000000000&#x27;,\n",
       "       &#x27;2004-03-15T00:00:00.000000000&#x27;, ..., &#x27;2023-10-15T00:00:00.000000000&#x27;,\n",
       "       &#x27;2023-11-15T00:00:00.000000000&#x27;, &#x27;2023-12-15T00:00:00.000000000&#x27;],\n",
       "      shape=(240,), dtype=&#x27;datetime64[ns]&#x27;)</pre></div></li><li class='xr-var-item'><div class='xr-var-name'><span class='xr-has-index'>lat</span></div><div class='xr-var-dims'>(lat)</div><div class='xr-var-dtype'>float64</div><div class='xr-var-preview xr-preview'>-50.12 -49.88 ... -30.12 -29.88</div><input id='attrs-d3156ad7-9056-4f0b-ab33-97954c60267a' class='xr-var-attrs-in' type='checkbox' disabled><label for='attrs-d3156ad7-9056-4f0b-ab33-97954c60267a' title='Show/Hide attributes'><svg class='icon xr-icon-file-text2'><use xlink:href='#icon-file-text2'></use></svg></label><input id='data-5846890c-12db-4221-8aea-dbdd6a30e2f8' class='xr-var-data-in' type='checkbox'><label for='data-5846890c-12db-4221-8aea-dbdd6a30e2f8' title='Show/Hide data repr'><svg class='icon xr-icon-database'><use xlink:href='#icon-database'></use></svg></label><div class='xr-var-attrs'><dl class='xr-attrs'></dl></div><div class='xr-var-data'><pre>array([-50.125, -49.875, -49.625, -49.375, -49.125, -48.875, -48.625, -48.375,\n",
       "       -48.125, -47.875, -47.625, -47.375, -47.125, -46.875, -46.625, -46.375,\n",
       "       -46.125, -45.875, -45.625, -45.375, -45.125, -44.875, -44.625, -44.375,\n",
       "       -44.125, -43.875, -43.625, -43.375, -43.125, -42.875, -42.625, -42.375,\n",
       "       -42.125, -41.875, -41.625, -41.375, -41.125, -40.875, -40.625, -40.375,\n",
       "       -40.125, -39.875, -39.625, -39.375, -39.125, -38.875, -38.625, -38.375,\n",
       "       -38.125, -37.875, -37.625, -37.375, -37.125, -36.875, -36.625, -36.375,\n",
       "       -36.125, -35.875, -35.625, -35.375, -35.125, -34.875, -34.625, -34.375,\n",
       "       -34.125, -33.875, -33.625, -33.375, -33.125, -32.875, -32.625, -32.375,\n",
       "       -32.125, -31.875, -31.625, -31.375, -31.125, -30.875, -30.625, -30.375,\n",
       "       -30.125, -29.875])</pre></div></li><li class='xr-var-item'><div class='xr-var-name'><span class='xr-has-index'>lon</span></div><div class='xr-var-dims'>(lon)</div><div class='xr-var-dtype'>float64</div><div class='xr-var-preview xr-preview'>0.125 0.375 0.625 ... 359.6 359.9</div><input id='attrs-3e3057db-3b68-4067-8739-14afb26ff486' class='xr-var-attrs-in' type='checkbox' disabled><label for='attrs-3e3057db-3b68-4067-8739-14afb26ff486' title='Show/Hide attributes'><svg class='icon xr-icon-file-text2'><use xlink:href='#icon-file-text2'></use></svg></label><input id='data-5dd5cff1-fbb0-4317-9c37-79137fca708e' class='xr-var-data-in' type='checkbox'><label for='data-5dd5cff1-fbb0-4317-9c37-79137fca708e' title='Show/Hide data repr'><svg class='icon xr-icon-database'><use xlink:href='#icon-database'></use></svg></label><div class='xr-var-attrs'><dl class='xr-attrs'></dl></div><div class='xr-var-data'><pre>array([1.25000e-01, 3.75000e-01, 6.25000e-01, ..., 3.59375e+02, 3.59625e+02,\n",
       "       3.59875e+02], shape=(1440,))</pre></div></li></ul></div></li><li class='xr-section-item'><input id='section-bc2b0485-4efb-4934-8e78-3609076c846d' class='xr-section-summary-in' type='checkbox'  checked><label for='section-bc2b0485-4efb-4934-8e78-3609076c846d' class='xr-section-summary' >Data variables: <span>(2)</span></label><div class='xr-section-inline-details'></div><div class='xr-section-details'><ul class='xr-var-list'><li class='xr-var-item'><div class='xr-var-name'><span>sst</span></div><div class='xr-var-dims'>(time, lat, lon)</div><div class='xr-var-dtype'>float64</div><div class='xr-var-preview xr-preview'>...</div><input id='attrs-3d7eb7b3-5ad3-4df1-a2df-9bde42404aa8' class='xr-var-attrs-in' type='checkbox' disabled><label for='attrs-3d7eb7b3-5ad3-4df1-a2df-9bde42404aa8' title='Show/Hide attributes'><svg class='icon xr-icon-file-text2'><use xlink:href='#icon-file-text2'></use></svg></label><input id='data-b059a66a-d27d-445e-8309-9ccbd28cd54f' class='xr-var-data-in' type='checkbox'><label for='data-b059a66a-d27d-445e-8309-9ccbd28cd54f' title='Show/Hide data repr'><svg class='icon xr-icon-database'><use xlink:href='#icon-database'></use></svg></label><div class='xr-var-attrs'><dl class='xr-attrs'></dl></div><div class='xr-var-data'><pre>[28339200 values with dtype=float64]</pre></div></li><li class='xr-var-item'><div class='xr-var-name'><span>st100</span></div><div class='xr-var-dims'>(time, lat, lon)</div><div class='xr-var-dtype'>float64</div><div class='xr-var-preview xr-preview'>...</div><input id='attrs-3cc9b981-7976-4648-acf1-b9f0ef949eb4' class='xr-var-attrs-in' type='checkbox' disabled><label for='attrs-3cc9b981-7976-4648-acf1-b9f0ef949eb4' title='Show/Hide attributes'><svg class='icon xr-icon-file-text2'><use xlink:href='#icon-file-text2'></use></svg></label><input id='data-e15915f3-cfc3-45c2-8315-eac3e1acf2a5' class='xr-var-data-in' type='checkbox'><label for='data-e15915f3-cfc3-45c2-8315-eac3e1acf2a5' title='Show/Hide data repr'><svg class='icon xr-icon-database'><use xlink:href='#icon-database'></use></svg></label><div class='xr-var-attrs'><dl class='xr-attrs'></dl></div><div class='xr-var-data'><pre>[28339200 values with dtype=float64]</pre></div></li></ul></div></li><li class='xr-section-item'><input id='section-5e5cd60e-fe12-4085-a703-ef784c5d0c76' class='xr-section-summary-in' type='checkbox'  ><label for='section-5e5cd60e-fe12-4085-a703-ef784c5d0c76' class='xr-section-summary' >Indexes: <span>(3)</span></label><div class='xr-section-inline-details'></div><div class='xr-section-details'><ul class='xr-var-list'><li class='xr-var-item'><div class='xr-index-name'><div>time</div></div><div class='xr-index-preview'>PandasIndex</div><input type='checkbox' disabled/><label></label><input id='index-cde3fa39-f9b9-4b84-b65c-b5b06250baf5' class='xr-index-data-in' type='checkbox'/><label for='index-cde3fa39-f9b9-4b84-b65c-b5b06250baf5' title='Show/Hide index repr'><svg class='icon xr-icon-database'><use xlink:href='#icon-database'></use></svg></label><div class='xr-index-data'><pre>PandasIndex(DatetimeIndex([&#x27;2004-01-15&#x27;, &#x27;2004-02-15&#x27;, &#x27;2004-03-15&#x27;, &#x27;2004-04-15&#x27;,\n",
       "               &#x27;2004-05-15&#x27;, &#x27;2004-06-15&#x27;, &#x27;2004-07-15&#x27;, &#x27;2004-08-15&#x27;,\n",
       "               &#x27;2004-09-15&#x27;, &#x27;2004-10-15&#x27;,\n",
       "               ...\n",
       "               &#x27;2023-03-15&#x27;, &#x27;2023-04-15&#x27;, &#x27;2023-05-15&#x27;, &#x27;2023-06-15&#x27;,\n",
       "               &#x27;2023-07-15&#x27;, &#x27;2023-08-15&#x27;, &#x27;2023-09-15&#x27;, &#x27;2023-10-15&#x27;,\n",
       "               &#x27;2023-11-15&#x27;, &#x27;2023-12-15&#x27;],\n",
       "              dtype=&#x27;datetime64[ns]&#x27;, name=&#x27;time&#x27;, length=240, freq=None))</pre></div></li><li class='xr-var-item'><div class='xr-index-name'><div>lat</div></div><div class='xr-index-preview'>PandasIndex</div><input type='checkbox' disabled/><label></label><input id='index-d59b9f6e-0b6e-4477-a0e8-e81265fc9735' class='xr-index-data-in' type='checkbox'/><label for='index-d59b9f6e-0b6e-4477-a0e8-e81265fc9735' title='Show/Hide index repr'><svg class='icon xr-icon-database'><use xlink:href='#icon-database'></use></svg></label><div class='xr-index-data'><pre>PandasIndex(Index([-50.125, -49.875, -49.625, -49.375, -49.125, -48.875, -48.625, -48.375,\n",
       "       -48.125, -47.875, -47.625, -47.375, -47.125, -46.875, -46.625, -46.375,\n",
       "       -46.125, -45.875, -45.625, -45.375, -45.125, -44.875, -44.625, -44.375,\n",
       "       -44.125, -43.875, -43.625, -43.375, -43.125, -42.875, -42.625, -42.375,\n",
       "       -42.125, -41.875, -41.625, -41.375, -41.125, -40.875, -40.625, -40.375,\n",
       "       -40.125, -39.875, -39.625, -39.375, -39.125, -38.875, -38.625, -38.375,\n",
       "       -38.125, -37.875, -37.625, -37.375, -37.125, -36.875, -36.625, -36.375,\n",
       "       -36.125, -35.875, -35.625, -35.375, -35.125, -34.875, -34.625, -34.375,\n",
       "       -34.125, -33.875, -33.625, -33.375, -33.125, -32.875, -32.625, -32.375,\n",
       "       -32.125, -31.875, -31.625, -31.375, -31.125, -30.875, -30.625, -30.375,\n",
       "       -30.125, -29.875],\n",
       "      dtype=&#x27;float64&#x27;, name=&#x27;lat&#x27;))</pre></div></li><li class='xr-var-item'><div class='xr-index-name'><div>lon</div></div><div class='xr-index-preview'>PandasIndex</div><input type='checkbox' disabled/><label></label><input id='index-bf842983-07a6-46b5-91c4-d32b405ff179' class='xr-index-data-in' type='checkbox'/><label for='index-bf842983-07a6-46b5-91c4-d32b405ff179' title='Show/Hide index repr'><svg class='icon xr-icon-database'><use xlink:href='#icon-database'></use></svg></label><div class='xr-index-data'><pre>PandasIndex(Index([  0.125,   0.375,   0.625,   0.875,   1.125,   1.375,   1.625,   1.875,\n",
       "         2.125,   2.375,\n",
       "       ...\n",
       "       357.625, 357.875, 358.125, 358.375, 358.625, 358.875, 359.125, 359.375,\n",
       "       359.625, 359.875],\n",
       "      dtype=&#x27;float64&#x27;, name=&#x27;lon&#x27;, length=1440))</pre></div></li></ul></div></li><li class='xr-section-item'><input id='section-39b76b6a-2184-4b59-a04f-4fdbdcc45eac' class='xr-section-summary-in' type='checkbox' disabled ><label for='section-39b76b6a-2184-4b59-a04f-4fdbdcc45eac' class='xr-section-summary'  title='Expand/collapse section'>Attributes: <span>(0)</span></label><div class='xr-section-inline-details'></div><div class='xr-section-details'><dl class='xr-attrs'></dl></div></li></ul></div></div>"
      ],
      "text/plain": [
       "<xarray.Dataset> Size: 453MB\n",
       "Dimensions:  (time: 240, lat: 82, lon: 1440)\n",
       "Coordinates:\n",
       "  * time     (time) datetime64[ns] 2kB 2004-01-15 2004-02-15 ... 2023-12-15\n",
       "  * lat      (lat) float64 656B -50.12 -49.88 -49.62 ... -30.38 -30.12 -29.88\n",
       "  * lon      (lon) float64 12kB 0.125 0.375 0.625 0.875 ... 359.4 359.6 359.9\n",
       "Data variables:\n",
       "    sst      (time, lat, lon) float64 227MB ...\n",
       "    st100    (time, lat, lon) float64 227MB ..."
      ]
     },
     "execution_count": 9,
     "metadata": {},
     "output_type": "execute_result"
    }
   ],
   "source": [
    "xgb_merge = xr.open_dataset(\"/g/data/jk72/yz7014/stf/Step2/xgb_merge.nc\")\n",
    "xgb_merge"
   ]
  },
  {
   "cell_type": "markdown",
   "metadata": {},
   "source": [
    "# Flatten the input data into a pd dataframe\n",
    "\n",
    "- also add the day and year into the pd dataframe"
   ]
  },
  {
   "cell_type": "code",
   "execution_count": 10,
   "metadata": {
    "execution": {
     "iopub.execute_input": "2025-01-24T04:24:10.882201Z",
     "iopub.status.busy": "2025-01-24T04:24:10.881183Z",
     "iopub.status.idle": "2025-01-24T04:24:10.888997Z",
     "shell.execute_reply": "2025-01-24T04:24:10.888121Z",
     "shell.execute_reply.started": "2025-01-24T04:24:10.882156Z"
    }
   },
   "outputs": [],
   "source": [
    "def flatten_day(data):\n",
    "    \"\"\"\n",
    "    Flattens the data into a pd dataframe\n",
    "    Add a day column and a year column to the data\n",
    "    Delete the time column\n",
    "    \n",
    "    Parameters:\n",
    "    -----------\n",
    "    data1: xarray dataset\n",
    "        The first dataset to be flattened\n",
    "    data2: xarray dataset\n",
    "        The second dataset to be flattened\n",
    "    \n",
    "    return: pd dataframe\n",
    "        The flattened pd dataframe\n",
    "    \"\"\"\n",
    "\n",
    "    pd_data = data.to_dataframe().reset_index()\n",
    "\n",
    "    base_date = pd.to_datetime('2004-01-01')\n",
    "    \n",
    "    pd_data['day'] = (pd_data['time'] - base_date).dt.days\n",
    "\n",
    "    pd_data['year'] = pd_data['time'].dt.year\n",
    "\n",
    "    pd_data = pd_data.drop(columns = ['time'])\n",
    "\n",
    "    return pd_data"
   ]
  },
  {
   "cell_type": "markdown",
   "metadata": {},
   "source": [
    "# Split the training and testing data\n",
    "- Randomly split the training and testing data by year\n",
    "- Delete NaN data"
   ]
  },
  {
   "cell_type": "code",
   "execution_count": 11,
   "metadata": {
    "execution": {
     "iopub.execute_input": "2025-01-24T04:24:10.890445Z",
     "iopub.status.busy": "2025-01-24T04:24:10.889988Z",
     "iopub.status.idle": "2025-01-24T04:24:10.912374Z",
     "shell.execute_reply": "2025-01-24T04:24:10.911183Z",
     "shell.execute_reply.started": "2025-01-24T04:24:10.890410Z"
    }
   },
   "outputs": [],
   "source": [
    "def training_testing_split(data):\n",
    "    \"\"\"\n",
    "    Split the data into training and testing data\n",
    "    \n",
    "    Parameters:\n",
    "    -----------\n",
    "    data: pd dataframe\n",
    "        The data to be split\n",
    "    \n",
    "    return: pd dataframe, pd dataframe\n",
    "        The training and testing data\n",
    "    \"\"\"\n",
    "    years = list(range(2004, 2024))\n",
    "    shuffled_years = pd.Series(years).sample(frac=1).tolist()\n",
    "    training_years = shuffled_years[:15]\n",
    "    testing_years = shuffled_years[15:]\n",
    "\n",
    "    training_data = data[data['year'].isin(training_years)].dropna()\n",
    "    testing_data = data[data['year'].isin(testing_years)].dropna()\n",
    "\n",
    "\n",
    "    training_X = training_data.drop(columns = ['st100', 'year'], axis = 1)\n",
    "    training_y = training_data['st100']\n",
    "    testing_X = testing_data.drop(columns = ['st100', 'year'], axis = 1)\n",
    "    testing_y = testing_data['st100']\n",
    "    print('Training years: ', training_years)\n",
    "    print('Testing years: ', testing_years)\n",
    "    return training_X, testing_X, training_y, testing_y, training_years, testing_years"
   ]
  },
  {
   "cell_type": "markdown",
   "metadata": {},
   "source": [
    "# XGBoost build"
   ]
  },
  {
   "cell_type": "code",
   "execution_count": 12,
   "metadata": {
    "execution": {
     "iopub.execute_input": "2025-01-24T04:24:10.914032Z",
     "iopub.status.busy": "2025-01-24T04:24:10.913517Z",
     "iopub.status.idle": "2025-01-24T04:24:10.921028Z",
     "shell.execute_reply": "2025-01-24T04:24:10.920061Z",
     "shell.execute_reply.started": "2025-01-24T04:24:10.913991Z"
    }
   },
   "outputs": [],
   "source": [
    "def run_model(xgb_reg, training_X, testing_X, training_y, testing_y):\n",
    "    \"\"\"\n",
    "    Train the model and return the model and the prediction\n",
    "    \n",
    "    Parameters:\n",
    "    -----------\n",
    "    xgb_reg: xgboost model\n",
    "        The xgboost model to be trained\n",
    "    training_X: pd dataframe\n",
    "        The training data\n",
    "    testing_X: pd dataframe\n",
    "        The testing data\n",
    "    training_y: pd dataframe\n",
    "        The training label\n",
    "    testing_y: pd dataframe\n",
    "        The testing label\n",
    "    \n",
    "    return: xgboost model, np array\n",
    "        The trained model and the prediction\n",
    "    \"\"\"\n",
    "    \n",
    "    \n",
    "    xgb_model = xgb_reg.fit(training_X, training_y)\n",
    "    y_pred = xgb_reg.predict(testing_X)\n",
    "    rmse = np.sqrt(mean_squared_error(testing_y, y_pred))\n",
    "    r2 = r2_score(testing_y, y_pred)\n",
    "    print('RMSE: ', rmse)\n",
    "    print('R^2: ', r2)\n",
    "\n",
    "    return y_pred, xgb_model"
   ]
  },
  {
   "cell_type": "code",
   "execution_count": 13,
   "metadata": {
    "execution": {
     "iopub.execute_input": "2025-01-24T04:24:10.922868Z",
     "iopub.status.busy": "2025-01-24T04:24:10.922354Z",
     "iopub.status.idle": "2025-01-24T04:24:10.928347Z",
     "shell.execute_reply": "2025-01-24T04:24:10.927465Z",
     "shell.execute_reply.started": "2025-01-24T04:24:10.922827Z"
    }
   },
   "outputs": [],
   "source": [
    "params = {\n",
    "    'learning_rate': 0.01,\n",
    "    'n_estimators': 350,\n",
    "    'max_depth': 10,\n",
    "    'min_child_weight': 10,\n",
    "    'subsample': 0.55,\n",
    "    'colsample_bytree': 1,\n",
    "    'objective': 'reg:squarederror',\n",
    "    'tree_method': 'hist',\n",
    "    'device' : 'cuda'\n",
    "}"
   ]
  },
  {
   "cell_type": "code",
   "execution_count": 14,
   "metadata": {
    "execution": {
     "iopub.execute_input": "2025-01-24T04:24:10.929856Z",
     "iopub.status.busy": "2025-01-24T04:24:10.929380Z",
     "iopub.status.idle": "2025-01-24T04:24:17.540113Z",
     "shell.execute_reply": "2025-01-24T04:24:17.539417Z",
     "shell.execute_reply.started": "2025-01-24T04:24:10.929820Z"
    }
   },
   "outputs": [
    {
     "name": "stdout",
     "output_type": "stream",
     "text": [
      "Training years:  [2010, 2007, 2021, 2016, 2018, 2008, 2023, 2019, 2017, 2006, 2004, 2022, 2014, 2012, 2009]\n",
      "Testing years:  [2011, 2013, 2015, 2005, 2020]\n"
     ]
    }
   ],
   "source": [
    "pd_xgb_data = flatten_day(xgb_merge)\n",
    "training_X, testing_X, training_y, testing_y, training_years, testing_years = training_testing_split(pd_xgb_data)"
   ]
  },
  {
   "cell_type": "code",
   "execution_count": 15,
   "metadata": {
    "execution": {
     "iopub.execute_input": "2025-01-24T04:24:17.541554Z",
     "iopub.status.busy": "2025-01-24T04:24:17.541033Z",
     "iopub.status.idle": "2025-01-24T04:24:39.821080Z",
     "shell.execute_reply": "2025-01-24T04:24:39.820101Z",
     "shell.execute_reply.started": "2025-01-24T04:24:17.541537Z"
    }
   },
   "outputs": [
    {
     "name": "stderr",
     "output_type": "stream",
     "text": [
      "/g/data/jk72/yz7014/stf/testvenv/lib/python3.12/site-packages/xgboost/core.py:158: UserWarning: [15:24:38] WARNING: /workspace/src/common/error_msg.cc:58: Falling back to prediction using DMatrix due to mismatched devices. This might lead to higher memory usage and slower performance. XGBoost is running on: cuda:0, while the input data is on: cpu.\n",
      "Potential solutions:\n",
      "- Use a data structure that matches the device ordinal in the booster.\n",
      "- Set the device for booster before call to inplace_predict.\n",
      "\n",
      "This warning will only be shown once.\n",
      "\n",
      "  warnings.warn(smsg, UserWarning)\n"
     ]
    },
    {
     "name": "stdout",
     "output_type": "stream",
     "text": [
      "RMSE:  0.6935339384035885\n",
      "R^2:  0.9724782072526038\n"
     ]
    }
   ],
   "source": [
    "xgb_reg = xgb.XGBRegressor(**params, seed = 42)\n",
    "y_pred, xgb_model = run_model(xgb_reg, training_X, testing_X, training_y, testing_y)"
   ]
  },
  {
   "cell_type": "code",
   "execution_count": null,
   "metadata": {},
   "outputs": [],
   "source": []
  },
  {
   "cell_type": "markdown",
   "metadata": {},
   "source": [
    "# Tuning\n"
   ]
  },
  {
   "cell_type": "code",
   "execution_count": 16,
   "metadata": {
    "execution": {
     "iopub.execute_input": "2025-01-24T04:24:39.821869Z",
     "iopub.status.busy": "2025-01-24T04:24:39.821706Z",
     "iopub.status.idle": "2025-01-24T04:24:39.826601Z",
     "shell.execute_reply": "2025-01-24T04:24:39.826003Z",
     "shell.execute_reply.started": "2025-01-24T04:24:39.821854Z"
    }
   },
   "outputs": [],
   "source": [
    "def tuning_function(alg, param_test, training_X, training_y):\n",
    "    \"\"\"\n",
    "    Tune the hyperparameters of the model\n",
    "    \n",
    "    Parameters:\n",
    "    -----------\n",
    "    alg: xgboost model\n",
    "        The xgboost model to be trained\n",
    "    param_test: dict\n",
    "        The hyperparameters to be tuned\n",
    "    training_X: pd dataframe\n",
    "        The training data\n",
    "    training_y: pd dataframe\n",
    "        The training label\n",
    "    \n",
    "    return: dict\n",
    "        The best hyperparameters\n",
    "    \"\"\"\n",
    "    gsearch = GridSearchCV(estimator = alg, \n",
    "                           param_grid = param_test, \n",
    "                           scoring='neg_mean_squared_error', \n",
    "                           n_jobs=-1,\n",
    "                           verbose=1,\n",
    "                           cv=4)\n",
    "    \n",
    "    gsearch.fit(training_X, training_y)\n",
    "\n",
    "    print(\"Best parameters found: \", gsearch.best_params_)\n",
    "    print(\"Lowest RMSE found: \", np.sqrt(np.abs(gsearch.best_score_)))\n",
    "\n",
    "    new_params = alg.get_xgb_params()\n",
    "    for key in gsearch.best_params_.keys():\n",
    "        new_params[key] = gsearch.best_params_[key]\n",
    "\n",
    "    alg = xgb.XGBRegressor(**new_params)\n",
    "\n",
    "    return alg, gsearch.cv_results_"
   ]
  },
  {
   "cell_type": "code",
   "execution_count": 26,
   "metadata": {
    "execution": {
     "iopub.execute_input": "2025-01-24T04:47:19.576083Z",
     "iopub.status.busy": "2025-01-24T04:47:19.575493Z",
     "iopub.status.idle": "2025-01-24T04:47:19.589589Z",
     "shell.execute_reply": "2025-01-24T04:47:19.588814Z",
     "shell.execute_reply.started": "2025-01-24T04:47:19.576040Z"
    }
   },
   "outputs": [],
   "source": [
    "def plot_gridsearch(grid, results, folds=4):\n",
    "\n",
    "    x = np.arange(0,len(results['params']))\n",
    "\n",
    "    fig = plt.figure(figsize=(16,4))\n",
    "    ax = plt.subplot(111)\n",
    "    cols=sns.color_palette(\"cubehelix\",folds)\n",
    "\n",
    "    for i in range(4):  \n",
    "\n",
    "        plt.scatter(x=x,y=results['split{}_test_score'.format(i)],\n",
    "                        color=cols[i],edgecolor='grey',s=50,\n",
    "                        alpha=0.5,label='Fold {}'.format(i+1))\n",
    "        plt.plot(x,results['split{}_test_score'.format(i)],\n",
    "                 color=cols[i])\n",
    "\n",
    "    plt.scatter(x=x,y=results['mean_test_score'],\n",
    "                    color='black',edgecolor='grey',s=50,\n",
    "                    alpha=0.5,label='Mean')\n",
    "    plt.plot(x,results['mean_test_score'],\n",
    "             color='black')\n",
    "\n",
    "    plt.ylabel('RMSE')\n",
    "\n",
    "    k = list(results['params'][0].keys())\n",
    "    if len(k) > 1: \n",
    "        labels = ['{}:{} \\n {}:{}'.format(k[0],\n",
    "                                            results['params'][i][k[0]],\n",
    "                                            k[1],\n",
    "                                            results['params'][i][k[1]],\n",
    "                                           ) for i in range(len(results['params']))]\n",
    "\n",
    "        plt.xlabel('Parameters')\n",
    "        plt.xticks(x, labels,rotation=90)\n",
    "    else:\n",
    "        plt.xlabel(k[0])\n",
    "        plt.xticks(x, grid[k[0]])\n",
    "\n",
    "    plt.legend()"
   ]
  },
  {
   "cell_type": "code",
   "execution_count": 17,
   "metadata": {
    "execution": {
     "iopub.execute_input": "2025-01-24T04:24:39.827310Z",
     "iopub.status.busy": "2025-01-24T04:24:39.827163Z",
     "iopub.status.idle": "2025-01-24T04:32:36.310103Z",
     "shell.execute_reply": "2025-01-24T04:32:36.308998Z",
     "shell.execute_reply.started": "2025-01-24T04:24:39.827297Z"
    },
    "scrolled": true
   },
   "outputs": [
    {
     "name": "stdout",
     "output_type": "stream",
     "text": [
      "Fitting 4 folds for each of 7 candidates, totalling 28 fits\n"
     ]
    },
    {
     "name": "stderr",
     "output_type": "stream",
     "text": [
      "/g/data/jk72/yz7014/stf/testvenv/lib/python3.12/site-packages/xgboost/core.py:158: UserWarning: [15:26:43] WARNING: /workspace/src/common/error_msg.cc:58: Falling back to prediction using DMatrix due to mismatched devices. This might lead to higher memory usage and slower performance. XGBoost is running on: cuda:0, while the input data is on: cpu.\n",
      "Potential solutions:\n",
      "- Use a data structure that matches the device ordinal in the booster.\n",
      "- Set the device for booster before call to inplace_predict.\n",
      "\n",
      "This warning will only be shown once.\n",
      "\n",
      "  warnings.warn(smsg, UserWarning)\n",
      "/g/data/jk72/yz7014/stf/testvenv/lib/python3.12/site-packages/xgboost/core.py:158: UserWarning: [15:26:45] WARNING: /workspace/src/common/error_msg.cc:58: Falling back to prediction using DMatrix due to mismatched devices. This might lead to higher memory usage and slower performance. XGBoost is running on: cuda:0, while the input data is on: cpu.\n",
      "Potential solutions:\n",
      "- Use a data structure that matches the device ordinal in the booster.\n",
      "- Set the device for booster before call to inplace_predict.\n",
      "\n",
      "This warning will only be shown once.\n",
      "\n",
      "  warnings.warn(smsg, UserWarning)\n",
      "/g/data/jk72/yz7014/stf/testvenv/lib/python3.12/site-packages/xgboost/core.py:158: UserWarning: [15:26:47] WARNING: /workspace/src/common/error_msg.cc:58: Falling back to prediction using DMatrix due to mismatched devices. This might lead to higher memory usage and slower performance. XGBoost is running on: cuda:0, while the input data is on: cpu.\n",
      "Potential solutions:\n",
      "- Use a data structure that matches the device ordinal in the booster.\n",
      "- Set the device for booster before call to inplace_predict.\n",
      "\n",
      "This warning will only be shown once.\n",
      "\n",
      "  warnings.warn(smsg, UserWarning)\n",
      "/g/data/jk72/yz7014/stf/testvenv/lib/python3.12/site-packages/xgboost/core.py:158: UserWarning: [15:26:47] WARNING: /workspace/src/common/error_msg.cc:58: Falling back to prediction using DMatrix due to mismatched devices. This might lead to higher memory usage and slower performance. XGBoost is running on: cuda:0, while the input data is on: cpu.\n",
      "Potential solutions:\n",
      "- Use a data structure that matches the device ordinal in the booster.\n",
      "- Set the device for booster before call to inplace_predict.\n",
      "\n",
      "This warning will only be shown once.\n",
      "\n",
      "  warnings.warn(smsg, UserWarning)\n",
      "/g/data/jk72/yz7014/stf/testvenv/lib/python3.12/site-packages/xgboost/core.py:158: UserWarning: [15:27:09] WARNING: /workspace/src/common/error_msg.cc:58: Falling back to prediction using DMatrix due to mismatched devices. This might lead to higher memory usage and slower performance. XGBoost is running on: cuda:0, while the input data is on: cpu.\n",
      "Potential solutions:\n",
      "- Use a data structure that matches the device ordinal in the booster.\n",
      "- Set the device for booster before call to inplace_predict.\n",
      "\n",
      "This warning will only be shown once.\n",
      "\n",
      "  warnings.warn(smsg, UserWarning)\n",
      "/g/data/jk72/yz7014/stf/testvenv/lib/python3.12/site-packages/xgboost/core.py:158: UserWarning: [15:27:09] WARNING: /workspace/src/common/error_msg.cc:58: Falling back to prediction using DMatrix due to mismatched devices. This might lead to higher memory usage and slower performance. XGBoost is running on: cuda:0, while the input data is on: cpu.\n",
      "Potential solutions:\n",
      "- Use a data structure that matches the device ordinal in the booster.\n",
      "- Set the device for booster before call to inplace_predict.\n",
      "\n",
      "This warning will only be shown once.\n",
      "\n",
      "  warnings.warn(smsg, UserWarning)\n",
      "/g/data/jk72/yz7014/stf/testvenv/lib/python3.12/site-packages/xgboost/core.py:158: UserWarning: [15:27:10] WARNING: /workspace/src/common/error_msg.cc:58: Falling back to prediction using DMatrix due to mismatched devices. This might lead to higher memory usage and slower performance. XGBoost is running on: cuda:0, while the input data is on: cpu.\n",
      "Potential solutions:\n",
      "- Use a data structure that matches the device ordinal in the booster.\n",
      "- Set the device for booster before call to inplace_predict.\n",
      "\n",
      "This warning will only be shown once.\n",
      "\n",
      "  warnings.warn(smsg, UserWarning)\n",
      "/g/data/jk72/yz7014/stf/testvenv/lib/python3.12/site-packages/xgboost/core.py:158: UserWarning: [15:27:10] WARNING: /workspace/src/common/error_msg.cc:58: Falling back to prediction using DMatrix due to mismatched devices. This might lead to higher memory usage and slower performance. XGBoost is running on: cuda:0, while the input data is on: cpu.\n",
      "Potential solutions:\n",
      "- Use a data structure that matches the device ordinal in the booster.\n",
      "- Set the device for booster before call to inplace_predict.\n",
      "\n",
      "This warning will only be shown once.\n",
      "\n",
      "  warnings.warn(smsg, UserWarning)\n",
      "/g/data/jk72/yz7014/stf/testvenv/lib/python3.12/site-packages/xgboost/core.py:158: UserWarning: [15:27:31] WARNING: /workspace/src/common/error_msg.cc:58: Falling back to prediction using DMatrix due to mismatched devices. This might lead to higher memory usage and slower performance. XGBoost is running on: cuda:0, while the input data is on: cpu.\n",
      "Potential solutions:\n",
      "- Use a data structure that matches the device ordinal in the booster.\n",
      "- Set the device for booster before call to inplace_predict.\n",
      "\n",
      "This warning will only be shown once.\n",
      "\n",
      "  warnings.warn(smsg, UserWarning)\n",
      "/g/data/jk72/yz7014/stf/testvenv/lib/python3.12/site-packages/xgboost/core.py:158: UserWarning: [15:27:32] WARNING: /workspace/src/common/error_msg.cc:58: Falling back to prediction using DMatrix due to mismatched devices. This might lead to higher memory usage and slower performance. XGBoost is running on: cuda:0, while the input data is on: cpu.\n",
      "Potential solutions:\n",
      "- Use a data structure that matches the device ordinal in the booster.\n",
      "- Set the device for booster before call to inplace_predict.\n",
      "\n",
      "This warning will only be shown once.\n",
      "\n",
      "  warnings.warn(smsg, UserWarning)\n",
      "/g/data/jk72/yz7014/stf/testvenv/lib/python3.12/site-packages/xgboost/core.py:158: UserWarning: [15:27:32] WARNING: /workspace/src/common/error_msg.cc:58: Falling back to prediction using DMatrix due to mismatched devices. This might lead to higher memory usage and slower performance. XGBoost is running on: cuda:0, while the input data is on: cpu.\n",
      "Potential solutions:\n",
      "- Use a data structure that matches the device ordinal in the booster.\n",
      "- Set the device for booster before call to inplace_predict.\n",
      "\n",
      "This warning will only be shown once.\n",
      "\n",
      "  warnings.warn(smsg, UserWarning)\n",
      "/g/data/jk72/yz7014/stf/testvenv/lib/python3.12/site-packages/xgboost/core.py:158: UserWarning: [15:27:32] WARNING: /workspace/src/common/error_msg.cc:58: Falling back to prediction using DMatrix due to mismatched devices. This might lead to higher memory usage and slower performance. XGBoost is running on: cuda:0, while the input data is on: cpu.\n",
      "Potential solutions:\n",
      "- Use a data structure that matches the device ordinal in the booster.\n",
      "- Set the device for booster before call to inplace_predict.\n",
      "\n",
      "This warning will only be shown once.\n",
      "\n",
      "  warnings.warn(smsg, UserWarning)\n"
     ]
    },
    {
     "name": "stdout",
     "output_type": "stream",
     "text": [
      "Best parameters found:  {'n_estimators': 400}\n",
      "Lowest RMSE found:  0.7421424261379931\n"
     ]
    }
   ],
   "source": [
    "grid_0 = {'n_estimators': [250, 300, 350, 400, 450, 500, 550]}\n",
    "\n",
    "xgb_reg, cv_results_0 = tuning_function(xgb_reg, grid_0, training_X, training_y)"
   ]
  },
  {
   "cell_type": "code",
   "execution_count": 18,
   "metadata": {
    "execution": {
     "iopub.execute_input": "2025-01-24T04:32:36.311062Z",
     "iopub.status.busy": "2025-01-24T04:32:36.310886Z",
     "iopub.status.idle": "2025-01-24T04:32:36.318279Z",
     "shell.execute_reply": "2025-01-24T04:32:36.317704Z",
     "shell.execute_reply.started": "2025-01-24T04:32:36.311045Z"
    }
   },
   "outputs": [
    {
     "data": {
      "text/plain": [
       "{'mean_fit_time': array([123.193362  , 146.79754388, 168.37377125, 189.2444399 ,\n",
       "        212.73098636, 222.672014  , 133.78580117]),\n",
       " 'std_fit_time': array([1.55783036, 0.16505378, 0.0545653 , 0.40173902, 0.06452814,\n",
       "        0.10890818, 1.37361431]),\n",
       " 'mean_score_time': array([0.9383623 , 1.2491529 , 1.54469895, 1.20051438, 1.75892693,\n",
       "        1.68744308, 0.99444759]),\n",
       " 'std_score_time': array([0.04070013, 0.0288305 , 0.0788131 , 0.04965126, 0.0383289 ,\n",
       "        0.15339381, 0.14515117]),\n",
       " 'param_n_estimators': masked_array(data=[250, 300, 350, 400, 450, 500, 550],\n",
       "              mask=[False, False, False, False, False, False, False],\n",
       "        fill_value=999999),\n",
       " 'params': [{'n_estimators': 250},\n",
       "  {'n_estimators': 300},\n",
       "  {'n_estimators': 350},\n",
       "  {'n_estimators': 400},\n",
       "  {'n_estimators': 450},\n",
       "  {'n_estimators': 500},\n",
       "  {'n_estimators': 550}],\n",
       " 'split0_test_score': array([-0.56951402, -0.49953907, -0.47453467, -0.46869161, -0.46951989,\n",
       "        -0.47176331, -0.47490714]),\n",
       " 'split1_test_score': array([-0.62210595, -0.54498568, -0.51237047, -0.49906266, -0.49336869,\n",
       "        -0.49077255, -0.48959301]),\n",
       " 'split2_test_score': array([-0.62527102, -0.56060489, -0.54669968, -0.55450564, -0.57774004,\n",
       "        -0.60746351, -0.63315639]),\n",
       " 'split3_test_score': array([-0.80078598, -0.71932437, -0.68959855, -0.68084162, -0.68331876,\n",
       "        -0.69037873, -0.69851571]),\n",
       " 'mean_test_score': array([-0.65441924, -0.5811135 , -0.55580084, -0.55077538, -0.55598685,\n",
       "        -0.56509452, -0.57404307]),\n",
       " 'std_test_score': array([0.0873583 , 0.08288916, 0.08135577, 0.08115278, 0.08379168,\n",
       "        0.0890586 , 0.09479922]),\n",
       " 'rank_test_score': array([7, 6, 2, 1, 3, 4, 5], dtype=int32)}"
      ]
     },
     "execution_count": 18,
     "metadata": {},
     "output_type": "execute_result"
    }
   ],
   "source": [
    "cv_results_0"
   ]
  },
  {
   "cell_type": "code",
   "execution_count": 29,
   "metadata": {
    "execution": {
     "iopub.execute_input": "2025-01-24T04:52:05.298664Z",
     "iopub.status.busy": "2025-01-24T04:52:05.296782Z",
     "iopub.status.idle": "2025-01-24T04:52:05.653163Z",
     "shell.execute_reply": "2025-01-24T04:52:05.652548Z",
     "shell.execute_reply.started": "2025-01-24T04:52:05.298611Z"
    }
   },
   "outputs": [
    {
     "data": {
      "image/png": "[encoded data removed]",
      "text/plain": [
       "<Figure size 1600x400 with 1 Axes>"
      ]
     },
     "metadata": {},
     "output_type": "display_data"
    }
   ],
   "source": [
    "plot_gridsearch(grid_0, cv_results_0)"
   ]
  },
  {
   "cell_type": "code",
   "execution_count": 19,
   "metadata": {
    "execution": {
     "iopub.execute_input": "2025-01-24T04:32:36.318903Z",
     "iopub.status.busy": "2025-01-24T04:32:36.318756Z",
     "iopub.status.idle": "2025-01-24T04:38:24.638142Z",
     "shell.execute_reply": "2025-01-24T04:38:24.636822Z",
     "shell.execute_reply.started": "2025-01-24T04:32:36.318890Z"
    }
   },
   "outputs": [
    {
     "name": "stdout",
     "output_type": "stream",
     "text": [
      "Fitting 4 folds for each of 5 candidates, totalling 20 fits\n",
      "Best parameters found:  {'n_estimators': 390}\n",
      "Lowest RMSE found:  0.7418928711198787\n"
     ]
    }
   ],
   "source": [
    "grid_1 = {'n_estimators': [380, 390, 400, 410, 420]}\n",
    "\n",
    "xgb_reg, cv_results_1 = tuning_function(xgb_reg, grid_1, training_X, training_y)"
   ]
  },
  {
   "cell_type": "code",
   "execution_count": 20,
   "metadata": {
    "execution": {
     "iopub.execute_input": "2025-01-24T04:38:24.640020Z",
     "iopub.status.busy": "2025-01-24T04:38:24.639474Z",
     "iopub.status.idle": "2025-01-24T04:38:24.651846Z",
     "shell.execute_reply": "2025-01-24T04:38:24.650753Z",
     "shell.execute_reply.started": "2025-01-24T04:38:24.639979Z"
    }
   },
   "outputs": [
    {
     "data": {
      "text/plain": [
       "{'mean_fit_time': array([182.12104368, 188.12901717, 191.76485109, 133.01147038,\n",
       "        132.29175186]),\n",
       " 'std_fit_time': array([2.10708338, 0.04262135, 0.06260207, 0.55658865, 0.09154635]),\n",
       " 'mean_score_time': array([1.15991664, 1.53695846, 1.36601716, 0.96678507, 1.0802725 ]),\n",
       " 'std_score_time': array([0.04043877, 0.09242967, 0.06767215, 0.0514454 , 0.23397463]),\n",
       " 'param_n_estimators': masked_array(data=[380, 390, 400, 410, 420],\n",
       "              mask=[False, False, False, False, False],\n",
       "        fill_value=999999),\n",
       " 'params': [{'n_estimators': 380},\n",
       "  {'n_estimators': 390},\n",
       "  {'n_estimators': 400},\n",
       "  {'n_estimators': 410},\n",
       "  {'n_estimators': 420}],\n",
       " 'split0_test_score': array([-0.46979165, -0.46890227, -0.46869161, -0.46858232, -0.4684262 ]),\n",
       " 'split1_test_score': array([-0.50293003, -0.50083782, -0.49906266, -0.49785598, -0.49648067]),\n",
       " 'split2_test_score': array([-0.54770449, -0.55038622, -0.55450564, -0.55880709, -0.56450294]),\n",
       " 'split3_test_score': array([-0.68338178, -0.68149381, -0.68084162, -0.68040642, -0.68035829]),\n",
       " 'mean_test_score': array([-0.55095199, -0.55040503, -0.55077538, -0.55141295, -0.55244203]),\n",
       " 'std_test_score': array([0.08130391, 0.08106151, 0.08115278, 0.08127615, 0.08169817]),\n",
       " 'rank_test_score': array([3, 1, 2, 4, 5], dtype=int32)}"
      ]
     },
     "execution_count": 20,
     "metadata": {},
     "output_type": "execute_result"
    }
   ],
   "source": [
    "cv_results_1"
   ]
  },
  {
   "cell_type": "code",
   "execution_count": 30,
   "metadata": {
    "execution": {
     "iopub.execute_input": "2025-01-24T04:52:30.581315Z",
     "iopub.status.busy": "2025-01-24T04:52:30.580728Z",
     "iopub.status.idle": "2025-01-24T04:52:30.807587Z",
     "shell.execute_reply": "2025-01-24T04:52:30.806961Z",
     "shell.execute_reply.started": "2025-01-24T04:52:30.581274Z"
    }
   },
   "outputs": [
    {
     "data": {
      "image/png": "[encoded data removed]",
      "text/plain": [
       "<Figure size 1600x400 with 1 Axes>"
      ]
     },
     "metadata": {},
     "output_type": "display_data"
    }
   ],
   "source": [
    "plot_gridsearch(grid_1, cv_results_1)"
   ]
  },
  {
   "cell_type": "code",
   "execution_count": 22,
   "metadata": {
    "execution": {
     "iopub.execute_input": "2025-01-24T04:44:35.394136Z",
     "iopub.status.busy": "2025-01-24T04:44:35.393383Z",
     "iopub.status.idle": "2025-01-24T04:44:36.579444Z",
     "shell.execute_reply": "2025-01-24T04:44:36.578773Z",
     "shell.execute_reply.started": "2025-01-24T04:44:35.394078Z"
    }
   },
   "outputs": [
    {
     "data": {
      "image/png": "[encoded data removed]",
      "text/plain": [
       "<Figure size 640x480 with 1 Axes>"
      ]
     },
     "metadata": {},
     "output_type": "display_data"
    }
   ],
   "source": [
    "plot_importance(xgb_model)\n",
    "plt.show()"
   ]
  },
  {
   "cell_type": "code",
   "execution_count": 23,
   "metadata": {
    "execution": {
     "iopub.execute_input": "2025-01-24T04:46:11.231862Z",
     "iopub.status.busy": "2025-01-24T04:46:11.231190Z",
     "iopub.status.idle": "2025-01-24T04:46:11.246248Z",
     "shell.execute_reply": "2025-01-24T04:46:11.245374Z",
     "shell.execute_reply.started": "2025-01-24T04:46:11.231818Z"
    }
   },
   "outputs": [],
   "source": []
  },
  {
   "cell_type": "code",
   "execution_count": null,
   "metadata": {},
   "outputs": [],
   "source": []
  }
 ],
 "metadata": {
  "kernelspec": {
   "display_name": "Python 3 (ipykernel)",
   "language": "python",
   "name": "python3"
  },
  "language_info": {
   "codemirror_mode": {
    "name": "ipython",
    "version": 3
   },
   "file_extension": ".py",
   "mimetype": "text/x-python",
   "name": "python",
   "nbconvert_exporter": "python",
   "pygments_lexer": "ipython3",
   "version": "3.12.1"
  }
 },
 "nbformat": 4,
 "nbformat_minor": 4
}
