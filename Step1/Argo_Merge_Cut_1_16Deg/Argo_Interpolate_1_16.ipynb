{
 "cells": [
  {
   "cell_type": "code",
   "execution_count": 1,
   "metadata": {},
   "outputs": [],
   "source": [
    "import numpy as np\n",
    "import matplotlib.pyplot as plt\n",
    "import xarray as xr\n",
    "import pandas as pd"
   ]
  },
  {
   "cell_type": "code",
   "execution_count": 2,
   "metadata": {},
   "outputs": [],
   "source": [
    "def interpolate_netcdf_1_16_deg(input_file,lat_new, lon_new, output_file=None):\n",
    "    \"\"\"\n",
    "    Interpolate a NetCDF file from 1-degree to 0.25-degree resolution using bilinear interpolation.\n",
    "    \n",
    "    Parameters:\n",
    "    -----------\n",
    "    input_file : str\n",
    "        Path to input NetCDF file\n",
    "    output_file : str, optional\n",
    "        Path to save the interpolated NetCDF file. If None, returns the dataset without saving.\n",
    "        \n",
    "    Returns:\n",
    "    --------\n",
    "    xarray.Dataset\n",
    "        Interpolated dataset at 0.0625-degree resolution\n",
    "    \"\"\"\n",
    "    # Read the input NetCDF file\n",
    "    ds_raw = xr.open_dataset(input_file)\n",
    "    ds = ds_raw.sst\n",
    "    # Create new coordinate arrays for 0.25-degree resolution\n",
    "    new_lat = lat_new\n",
    "    new_lon = lon_new\n",
    "    \n",
    "    # Perform bilinear interpolation\n",
    "    ds_interpolated = ds.interp(\n",
    "        lat=new_lat,\n",
    "        lon=new_lon,\n",
    "        method='linear'  # This performs bilinear interpolation for 2D data\n",
    "    )\n",
    "    \n",
    "    # Save to file if output_file is specified\n",
    "    if output_file:\n",
    "        ds_interpolated.to_netcdf(output_file)\n",
    "        print(f\"Interpolated data saved to: {output_file}\")\n",
    "    \n",
    "    return ds_interpolated"
   ]
  },
  {
   "cell_type": "code",
   "execution_count": 3,
   "metadata": {},
   "outputs": [],
   "source": [
    "nc_file_path = r\"C:\\Users\\lv299\\OneDrive\\STF_Paper\\Subtropical-Front-Modeling-Code\\Step1\\Argo_Merge_Cut_1_4Deg\\Argo_Cut\\Argo_Merge_Cut_04_23_1_Deg.nc\"\n",
    "\n"
   ]
  },
  {
   "cell_type": "code",
   "execution_count": 4,
   "metadata": {},
   "outputs": [],
   "source": [
    "oisst = xr.open_dataset(r\"C:\\Users\\lv299\\OneDrive\\STF_Paper\\Subtropical-Front-Modeling-Code\\Step1\\OISST_Merge_Cut_1_16Deg_Monthly\\oisst_1_16_deg.nc\")\n",
    "lat_new = oisst.lat\n",
    "lon_new = oisst.lon"
   ]
  },
  {
   "cell_type": "code",
   "execution_count": 5,
   "metadata": {},
   "outputs": [
    {
     "name": "stderr",
     "output_type": "stream",
     "text": [
      "c:\\Users\\lv299\\anaconda3\\lib\\site-packages\\xarray\\core\\missing.py:562: FutureWarning: Passing method to Float64Index.get_loc is deprecated and will raise in a future version. Use index.get_indexer([item], method=...) instead.\n",
      "  imin = index.get_loc(minval, method=\"nearest\")\n",
      "c:\\Users\\lv299\\anaconda3\\lib\\site-packages\\xarray\\core\\missing.py:563: FutureWarning: Passing method to Float64Index.get_loc is deprecated and will raise in a future version. Use index.get_indexer([item], method=...) instead.\n",
      "  imax = index.get_loc(maxval, method=\"nearest\")\n",
      "c:\\Users\\lv299\\anaconda3\\lib\\site-packages\\xarray\\core\\missing.py:562: FutureWarning: Passing method to Float64Index.get_loc is deprecated and will raise in a future version. Use index.get_indexer([item], method=...) instead.\n",
      "  imin = index.get_loc(minval, method=\"nearest\")\n",
      "c:\\Users\\lv299\\anaconda3\\lib\\site-packages\\xarray\\core\\missing.py:563: FutureWarning: Passing method to Float64Index.get_loc is deprecated and will raise in a future version. Use index.get_indexer([item], method=...) instead.\n",
      "  imax = index.get_loc(maxval, method=\"nearest\")\n"
     ]
    }
   ],
   "source": [
    "argo_1_16_deg = interpolate_netcdf_1_16_deg(nc_file_path, lat_new, lon_new)"
   ]
  },
  {
   "cell_type": "code",
   "execution_count": 6,
   "metadata": {},
   "outputs": [],
   "source": [
    "time_array = pd.date_range(start='2004-01-01', end='2023-12-15', freq='MS') + pd.Timedelta(days=14)\n",
    "argo_1_16_deg['time'] = time_array"
   ]
  },
  {
   "cell_type": "code",
   "execution_count": 7,
   "metadata": {},
   "outputs": [],
   "source": [
    "argo_1_16_deg.to_netcdf('argo_1_16_deg.nc')"
   ]
  }
 ],
 "metadata": {
  "kernelspec": {
   "display_name": "base",
   "language": "python",
   "name": "python3"
  },
  "language_info": {
   "codemirror_mode": {
    "name": "ipython",
    "version": 3
   },
   "file_extension": ".py",
   "mimetype": "text/x-python",
   "name": "python",
   "nbconvert_exporter": "python",
   "pygments_lexer": "ipython3",
   "version": "3.9.13"
  }
 },
 "nbformat": 4,
 "nbformat_minor": 2
}
